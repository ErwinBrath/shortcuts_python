{
  "nbformat": 4,
  "nbformat_minor": 0,
  "metadata": {
    "colab": {
      "name": "01_offset_pagination.ipynb",
      "provenance": [],
      "collapsed_sections": []
    },
    "kernelspec": {
      "name": "python3",
      "display_name": "Python 3"
    },
    "language_info": {
      "name": "python"
    }
  },
  "cells": [
    {
      "cell_type": "markdown",
      "source": [
        "## Recorrer una API paginada y almacenar cada iteracion en un archivo en una carpeta"
      ],
      "metadata": {
        "id": "CVbbEuhWY6xG"
      }
    },
    {
      "cell_type": "code",
      "execution_count": null,
      "metadata": {
        "id": "rfUHLOUKIkcX"
      },
      "outputs": [],
      "source": [
        "import requests\n",
        "import uuid\n",
        "import json"
      ]
    },
    {
      "cell_type": "code",
      "source": [
        "!mkdir /content/extracted_data #Crea la carpeta para guardar los json"
      ],
      "metadata": {
        "id": "nqQVhSysLsmz"
      },
      "execution_count": null,
      "outputs": []
    },
    {
      "cell_type": "code",
      "source": [
        "offset=0 # Parametros iniciales \n",
        "limit=1000 # Parametros iniciales \n",
        "while True:\n",
        "  url=\"http://jsonplaceholder.typicode.com/photos?_start={}&_limit={}\".format(offset,limit)\n",
        "  print(\"URL for the current iteration : {}\".format(url))\n",
        "  result=requests.get(url);\n",
        "  data_extracted=result.json();\n",
        "  if(len(data_extracted)==0):\n",
        "    break;\n",
        "  else:\n",
        "    file_name=\"/content/extracted_data/\"+str(uuid.uuid4())+\".json\" # Se crean los nombres unicos para los archivos\n",
        "    with open(file_name, 'w') as fp:\n",
        "      json.dump(data_extracted, fp) # Se almacenan los json\n",
        "    offset=offset+limit #Avanza en el ciclo"
      ],
      "metadata": {
        "colab": {
          "base_uri": "https://localhost:8080/"
        },
        "id": "jwJftLoPKW7Z",
        "outputId": "b1912582-9313-4369-ebae-e65649e3bcb0"
      },
      "execution_count": null,
      "outputs": [
        {
          "output_type": "stream",
          "name": "stdout",
          "text": [
            "URL for the current iteration : http://jsonplaceholder.typicode.com/photos?_start=0&_limit=1000\n",
            "URL for the current iteration : http://jsonplaceholder.typicode.com/photos?_start=1000&_limit=1000\n",
            "URL for the current iteration : http://jsonplaceholder.typicode.com/photos?_start=2000&_limit=1000\n",
            "URL for the current iteration : http://jsonplaceholder.typicode.com/photos?_start=3000&_limit=1000\n",
            "URL for the current iteration : http://jsonplaceholder.typicode.com/photos?_start=4000&_limit=1000\n",
            "URL for the current iteration : http://jsonplaceholder.typicode.com/photos?_start=5000&_limit=1000\n"
          ]
        }
      ]
    },
    {
      "cell_type": "code",
      "source": [
        "path_to_json = '/content/extracted_data*' \n",
        "json_pattern = os.path.join(path_to_json,'*.json')\n",
        "file_list = glob.glob(json_pattern)\n",
        "\n",
        "dfs = [] # an empty list to store the data frames\n",
        "for file in file_list:\n",
        "    data = pd.read_json(file) # read data frame from json file\n",
        "    dfs.append(data) # append the data frame to the list"
      ],
      "metadata": {
        "id": "3MS9zsmjTu6A"
      },
      "execution_count": null,
      "outputs": []
    },
    {
      "cell_type": "code",
      "source": [
        "df = pd.concat(dfs, ignore_index=True) # Se concatena la lista de DataFrames"
      ],
      "metadata": {
        "id": "L9hRue0FTsGI"
      },
      "execution_count": null,
      "outputs": []
    },
    {
      "cell_type": "code",
      "source": [
        "json_files = glob.glob('/content/extracted_data/*.json') # Se borran todos los archivos .json\n",
        "for json_file in json_files:\n",
        "    try:\n",
        "        os.remove(json_file)\n",
        "    except OSError as e:\n",
        "        print(f\"Error:{ e.strerror}\")"
      ],
      "metadata": {
        "id": "nn-NdyiQVcaC"
      },
      "execution_count": null,
      "outputs": []
    },
    {
      "cell_type": "markdown",
      "source": [
        "---"
      ],
      "metadata": {
        "id": "ieLEzmAbVgts"
      }
    },
    {
      "cell_type": "markdown",
      "source": [
        "## Recorrer una API paginada y almacenar todos los datos en un solo dataframe"
      ],
      "metadata": {
        "id": "jGKEEIQLXWFW"
      }
    },
    {
      "cell_type": "code",
      "source": [
        "import requests\n",
        "import json\n",
        "offset=0 #Parametros iniciales\n",
        "limit=1000 # Parametrod iniciales\n",
        "lista=[]\n",
        "while True:\n",
        "  url=\"http://jsonplaceholder.typicode.com/photos?_start={}&_limit={}\".format(offset,limit) # Url API que se recorre\n",
        "  print(\"URL for the current iteration : {}\".format(url)) #Marcador de iteracion\n",
        "  result=requests.get(url); #Genera el get\n",
        "  data_extracted=result.json(); # Transforma los resultados en formato json\n",
        "  if(len(data_extracted)==0): # Si la data resultante es 0 el flujo para\n",
        "    break;\n",
        "  else:\n",
        "    lista.append(pd.json_normalize(data_extracted)) # \"Appenda\" y crea lista de data frames\n",
        "    offset=offset+limit # Avanza en el ciclo\n",
        "df2 = pd.concat(lista, ignore_index=True) # Concatena la lista de dataframes\n",
        "df2"
      ],
      "metadata": {
        "colab": {
          "base_uri": "https://localhost:8080/",
          "height": 528
        },
        "id": "qj2S1SaxVjOv",
        "outputId": "d40653dd-4e72-4c77-bc7d-caf66df285a1"
      },
      "execution_count": null,
      "outputs": [
        {
          "output_type": "stream",
          "name": "stdout",
          "text": [
            "URL for the current iteration : http://jsonplaceholder.typicode.com/photos?_start=0&_limit=1000\n",
            "URL for the current iteration : http://jsonplaceholder.typicode.com/photos?_start=1000&_limit=1000\n",
            "URL for the current iteration : http://jsonplaceholder.typicode.com/photos?_start=2000&_limit=1000\n",
            "URL for the current iteration : http://jsonplaceholder.typicode.com/photos?_start=3000&_limit=1000\n",
            "URL for the current iteration : http://jsonplaceholder.typicode.com/photos?_start=4000&_limit=1000\n",
            "URL for the current iteration : http://jsonplaceholder.typicode.com/photos?_start=5000&_limit=1000\n"
          ]
        },
        {
          "output_type": "execute_result",
          "data": {
            "text/plain": [
              "      albumId    id                                              title  \\\n",
              "0           1     1  accusamus beatae ad facilis cum similique qui ...   \n",
              "1           1     2             reprehenderit est deserunt velit ipsam   \n",
              "2           1     3     officia porro iure quia iusto qui ipsa ut modi   \n",
              "3           1     4  culpa odio esse rerum omnis laboriosam volupta...   \n",
              "4           1     5  natus nisi omnis corporis facere molestiae rer...   \n",
              "...       ...   ...                                                ...   \n",
              "4995      100  4996  voluptatem ab aliquam dolorum vel voluptas qui...   \n",
              "4996      100  4997    sunt amet autem exercitationem fuga consequatur   \n",
              "4997      100  4998             qui quo cumque distinctio aut voluptas   \n",
              "4998      100  4999         in voluptate sit officia non nesciunt quis   \n",
              "4999      100  5000  error quasi sunt cupiditate voluptate ea odit ...   \n",
              "\n",
              "                                         url  \\\n",
              "0     https://via.placeholder.com/600/92c952   \n",
              "1     https://via.placeholder.com/600/771796   \n",
              "2     https://via.placeholder.com/600/24f355   \n",
              "3     https://via.placeholder.com/600/d32776   \n",
              "4     https://via.placeholder.com/600/f66b97   \n",
              "...                                      ...   \n",
              "4995  https://via.placeholder.com/600/b3db9a   \n",
              "4996  https://via.placeholder.com/600/13454b   \n",
              "4997  https://via.placeholder.com/600/315aa6   \n",
              "4998  https://via.placeholder.com/600/1b9d08   \n",
              "4999  https://via.placeholder.com/600/6dd9cb   \n",
              "\n",
              "                                thumbnailUrl  \n",
              "0     https://via.placeholder.com/150/92c952  \n",
              "1     https://via.placeholder.com/150/771796  \n",
              "2     https://via.placeholder.com/150/24f355  \n",
              "3     https://via.placeholder.com/150/d32776  \n",
              "4     https://via.placeholder.com/150/f66b97  \n",
              "...                                      ...  \n",
              "4995  https://via.placeholder.com/150/b3db9a  \n",
              "4996  https://via.placeholder.com/150/13454b  \n",
              "4997  https://via.placeholder.com/150/315aa6  \n",
              "4998  https://via.placeholder.com/150/1b9d08  \n",
              "4999  https://via.placeholder.com/150/6dd9cb  \n",
              "\n",
              "[5000 rows x 5 columns]"
            ],
            "text/html": [
              "\n",
              "  <div id=\"df-fcbc9e39-591c-411e-a231-618eaad6d128\">\n",
              "    <div class=\"colab-df-container\">\n",
              "      <div>\n",
              "<style scoped>\n",
              "    .dataframe tbody tr th:only-of-type {\n",
              "        vertical-align: middle;\n",
              "    }\n",
              "\n",
              "    .dataframe tbody tr th {\n",
              "        vertical-align: top;\n",
              "    }\n",
              "\n",
              "    .dataframe thead th {\n",
              "        text-align: right;\n",
              "    }\n",
              "</style>\n",
              "<table border=\"1\" class=\"dataframe\">\n",
              "  <thead>\n",
              "    <tr style=\"text-align: right;\">\n",
              "      <th></th>\n",
              "      <th>albumId</th>\n",
              "      <th>id</th>\n",
              "      <th>title</th>\n",
              "      <th>url</th>\n",
              "      <th>thumbnailUrl</th>\n",
              "    </tr>\n",
              "  </thead>\n",
              "  <tbody>\n",
              "    <tr>\n",
              "      <th>0</th>\n",
              "      <td>1</td>\n",
              "      <td>1</td>\n",
              "      <td>accusamus beatae ad facilis cum similique qui ...</td>\n",
              "      <td>https://via.placeholder.com/600/92c952</td>\n",
              "      <td>https://via.placeholder.com/150/92c952</td>\n",
              "    </tr>\n",
              "    <tr>\n",
              "      <th>1</th>\n",
              "      <td>1</td>\n",
              "      <td>2</td>\n",
              "      <td>reprehenderit est deserunt velit ipsam</td>\n",
              "      <td>https://via.placeholder.com/600/771796</td>\n",
              "      <td>https://via.placeholder.com/150/771796</td>\n",
              "    </tr>\n",
              "    <tr>\n",
              "      <th>2</th>\n",
              "      <td>1</td>\n",
              "      <td>3</td>\n",
              "      <td>officia porro iure quia iusto qui ipsa ut modi</td>\n",
              "      <td>https://via.placeholder.com/600/24f355</td>\n",
              "      <td>https://via.placeholder.com/150/24f355</td>\n",
              "    </tr>\n",
              "    <tr>\n",
              "      <th>3</th>\n",
              "      <td>1</td>\n",
              "      <td>4</td>\n",
              "      <td>culpa odio esse rerum omnis laboriosam volupta...</td>\n",
              "      <td>https://via.placeholder.com/600/d32776</td>\n",
              "      <td>https://via.placeholder.com/150/d32776</td>\n",
              "    </tr>\n",
              "    <tr>\n",
              "      <th>4</th>\n",
              "      <td>1</td>\n",
              "      <td>5</td>\n",
              "      <td>natus nisi omnis corporis facere molestiae rer...</td>\n",
              "      <td>https://via.placeholder.com/600/f66b97</td>\n",
              "      <td>https://via.placeholder.com/150/f66b97</td>\n",
              "    </tr>\n",
              "    <tr>\n",
              "      <th>...</th>\n",
              "      <td>...</td>\n",
              "      <td>...</td>\n",
              "      <td>...</td>\n",
              "      <td>...</td>\n",
              "      <td>...</td>\n",
              "    </tr>\n",
              "    <tr>\n",
              "      <th>4995</th>\n",
              "      <td>100</td>\n",
              "      <td>4996</td>\n",
              "      <td>voluptatem ab aliquam dolorum vel voluptas qui...</td>\n",
              "      <td>https://via.placeholder.com/600/b3db9a</td>\n",
              "      <td>https://via.placeholder.com/150/b3db9a</td>\n",
              "    </tr>\n",
              "    <tr>\n",
              "      <th>4996</th>\n",
              "      <td>100</td>\n",
              "      <td>4997</td>\n",
              "      <td>sunt amet autem exercitationem fuga consequatur</td>\n",
              "      <td>https://via.placeholder.com/600/13454b</td>\n",
              "      <td>https://via.placeholder.com/150/13454b</td>\n",
              "    </tr>\n",
              "    <tr>\n",
              "      <th>4997</th>\n",
              "      <td>100</td>\n",
              "      <td>4998</td>\n",
              "      <td>qui quo cumque distinctio aut voluptas</td>\n",
              "      <td>https://via.placeholder.com/600/315aa6</td>\n",
              "      <td>https://via.placeholder.com/150/315aa6</td>\n",
              "    </tr>\n",
              "    <tr>\n",
              "      <th>4998</th>\n",
              "      <td>100</td>\n",
              "      <td>4999</td>\n",
              "      <td>in voluptate sit officia non nesciunt quis</td>\n",
              "      <td>https://via.placeholder.com/600/1b9d08</td>\n",
              "      <td>https://via.placeholder.com/150/1b9d08</td>\n",
              "    </tr>\n",
              "    <tr>\n",
              "      <th>4999</th>\n",
              "      <td>100</td>\n",
              "      <td>5000</td>\n",
              "      <td>error quasi sunt cupiditate voluptate ea odit ...</td>\n",
              "      <td>https://via.placeholder.com/600/6dd9cb</td>\n",
              "      <td>https://via.placeholder.com/150/6dd9cb</td>\n",
              "    </tr>\n",
              "  </tbody>\n",
              "</table>\n",
              "<p>5000 rows × 5 columns</p>\n",
              "</div>\n",
              "      <button class=\"colab-df-convert\" onclick=\"convertToInteractive('df-fcbc9e39-591c-411e-a231-618eaad6d128')\"\n",
              "              title=\"Convert this dataframe to an interactive table.\"\n",
              "              style=\"display:none;\">\n",
              "        \n",
              "  <svg xmlns=\"http://www.w3.org/2000/svg\" height=\"24px\"viewBox=\"0 0 24 24\"\n",
              "       width=\"24px\">\n",
              "    <path d=\"M0 0h24v24H0V0z\" fill=\"none\"/>\n",
              "    <path d=\"M18.56 5.44l.94 2.06.94-2.06 2.06-.94-2.06-.94-.94-2.06-.94 2.06-2.06.94zm-11 1L8.5 8.5l.94-2.06 2.06-.94-2.06-.94L8.5 2.5l-.94 2.06-2.06.94zm10 10l.94 2.06.94-2.06 2.06-.94-2.06-.94-.94-2.06-.94 2.06-2.06.94z\"/><path d=\"M17.41 7.96l-1.37-1.37c-.4-.4-.92-.59-1.43-.59-.52 0-1.04.2-1.43.59L10.3 9.45l-7.72 7.72c-.78.78-.78 2.05 0 2.83L4 21.41c.39.39.9.59 1.41.59.51 0 1.02-.2 1.41-.59l7.78-7.78 2.81-2.81c.8-.78.8-2.07 0-2.86zM5.41 20L4 18.59l7.72-7.72 1.47 1.35L5.41 20z\"/>\n",
              "  </svg>\n",
              "      </button>\n",
              "      \n",
              "  <style>\n",
              "    .colab-df-container {\n",
              "      display:flex;\n",
              "      flex-wrap:wrap;\n",
              "      gap: 12px;\n",
              "    }\n",
              "\n",
              "    .colab-df-convert {\n",
              "      background-color: #E8F0FE;\n",
              "      border: none;\n",
              "      border-radius: 50%;\n",
              "      cursor: pointer;\n",
              "      display: none;\n",
              "      fill: #1967D2;\n",
              "      height: 32px;\n",
              "      padding: 0 0 0 0;\n",
              "      width: 32px;\n",
              "    }\n",
              "\n",
              "    .colab-df-convert:hover {\n",
              "      background-color: #E2EBFA;\n",
              "      box-shadow: 0px 1px 2px rgba(60, 64, 67, 0.3), 0px 1px 3px 1px rgba(60, 64, 67, 0.15);\n",
              "      fill: #174EA6;\n",
              "    }\n",
              "\n",
              "    [theme=dark] .colab-df-convert {\n",
              "      background-color: #3B4455;\n",
              "      fill: #D2E3FC;\n",
              "    }\n",
              "\n",
              "    [theme=dark] .colab-df-convert:hover {\n",
              "      background-color: #434B5C;\n",
              "      box-shadow: 0px 1px 3px 1px rgba(0, 0, 0, 0.15);\n",
              "      filter: drop-shadow(0px 1px 2px rgba(0, 0, 0, 0.3));\n",
              "      fill: #FFFFFF;\n",
              "    }\n",
              "  </style>\n",
              "\n",
              "      <script>\n",
              "        const buttonEl =\n",
              "          document.querySelector('#df-fcbc9e39-591c-411e-a231-618eaad6d128 button.colab-df-convert');\n",
              "        buttonEl.style.display =\n",
              "          google.colab.kernel.accessAllowed ? 'block' : 'none';\n",
              "\n",
              "        async function convertToInteractive(key) {\n",
              "          const element = document.querySelector('#df-fcbc9e39-591c-411e-a231-618eaad6d128');\n",
              "          const dataTable =\n",
              "            await google.colab.kernel.invokeFunction('convertToInteractive',\n",
              "                                                     [key], {});\n",
              "          if (!dataTable) return;\n",
              "\n",
              "          const docLinkHtml = 'Like what you see? Visit the ' +\n",
              "            '<a target=\"_blank\" href=https://colab.research.google.com/notebooks/data_table.ipynb>data table notebook</a>'\n",
              "            + ' to learn more about interactive tables.';\n",
              "          element.innerHTML = '';\n",
              "          dataTable['output_type'] = 'display_data';\n",
              "          await google.colab.output.renderOutput(dataTable, element);\n",
              "          const docLink = document.createElement('div');\n",
              "          docLink.innerHTML = docLinkHtml;\n",
              "          element.appendChild(docLink);\n",
              "        }\n",
              "      </script>\n",
              "    </div>\n",
              "  </div>\n",
              "  "
            ]
          },
          "metadata": {},
          "execution_count": 126
        }
      ]
    }
  ]
}