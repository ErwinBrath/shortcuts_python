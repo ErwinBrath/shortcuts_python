{
  "nbformat": 4,
  "nbformat_minor": 0,
  "metadata": {
    "colab": {
      "name": "02_escritura_y_lectura_de_json.ipynb",
      "provenance": [],
      "collapsed_sections": [],
      "authorship_tag": "ABX9TyO8CqsB1pfyC04RImLKUF9h",
      "include_colab_link": true
    },
    "kernelspec": {
      "name": "python3",
      "display_name": "Python 3"
    },
    "language_info": {
      "name": "python"
    }
  },
  "cells": [
    {
      "cell_type": "markdown",
      "metadata": {
        "id": "view-in-github",
        "colab_type": "text"
      },
      "source": [
        "<a href=\"https://colab.research.google.com/github/ErwinBrath/shortcuts_python/blob/main/02_escritura_y_lectura_de_json.ipynb\" target=\"_parent\"><img src=\"https://colab.research.google.com/assets/colab-badge.svg\" alt=\"Open In Colab\"/></a>"
      ]
    },
    {
      "cell_type": "code",
      "execution_count": 12,
      "metadata": {
        "id": "av25LinMCf_S",
        "colab": {
          "base_uri": "https://localhost:8080/"
        },
        "outputId": "0e8bb704-2006-4390-bf2b-8770d660f416"
      },
      "outputs": [
        {
          "output_type": "stream",
          "name": "stdout",
          "text": [
            "['.config', 'sample_data']\n",
            "['.config', 'datos.json', 'sample_data']\n"
          ]
        }
      ],
      "source": [
        "import json\n",
        "import os\n",
        "\n",
        "#Escritura\n",
        "os.remove('datos.json')\n",
        "print(os.listdir())\n",
        "\n",
        "datos = {'user':'ErwinBrath',\n",
        "         'password':'123456'}\n",
        "\n",
        "with open('datos.json', 'w') as f:\n",
        "  json.dump(datos, f)\n",
        "\n",
        "print(os.listdir())"
      ]
    },
    {
      "cell_type": "code",
      "source": [
        "datos={}\n",
        "print(datos)\n",
        "\n",
        "#Lectura\n",
        "\n",
        "with open('datos.json','r') as f:\n",
        "  datos = json.load(f)\n",
        "print(datos)  "
      ],
      "metadata": {
        "colab": {
          "base_uri": "https://localhost:8080/"
        },
        "id": "z4hYr73fDJYZ",
        "outputId": "4d4dcd9f-43c3-4c62-83ed-0366e3165e6d"
      },
      "execution_count": null,
      "outputs": [
        {
          "output_type": "stream",
          "name": "stdout",
          "text": [
            "{'user': 'ErwinBrath', 'password': '123456'}\n"
          ]
        }
      ]
    }
  ]
}